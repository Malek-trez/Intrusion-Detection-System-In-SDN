{
 "cells": [
  {
   "cell_type": "markdown",
   "metadata": {
    "id": "6zZ86WGUaNvO"
   },
   "source": [
    "### Loading Required Libraries & Functions"
   ]
  },
  {
   "cell_type": "code",
   "execution_count": 7,
   "metadata": {
    "execution": {
     "iopub.execute_input": "2024-12-19T15:04:58.731562Z",
     "iopub.status.busy": "2024-12-19T15:04:58.731132Z",
     "iopub.status.idle": "2024-12-19T15:05:01.599425Z",
     "shell.execute_reply": "2024-12-19T15:05:01.597991Z",
     "shell.execute_reply.started": "2024-12-19T15:04:58.731507Z"
    },
    "id": "HYuOXWB_Mm_s",
    "trusted": true
   },
   "outputs": [],
   "source": [
    "# Importing useful libraries\n",
    "import numpy as np\n",
    "import pandas as pd\n",
    "import pickle\n",
    "import itertools\n",
    "import matplotlib.pyplot as plt\n",
    "%matplotlib inline\n",
    "\n",
    "import warnings\n",
    "warnings.filterwarnings(\"ignore\")\n",
    "\n",
    "from sklearn.preprocessing import MinMaxScaler\n",
    "from sklearn.metrics import confusion_matrix,accuracy_score,recall_score,precision_score,f1_score"
   ]
  },
  {
   "cell_type": "code",
   "execution_count": 8,
   "metadata": {
    "execution": {
     "iopub.execute_input": "2024-12-19T15:05:01.603211Z",
     "iopub.status.busy": "2024-12-19T15:05:01.602552Z",
     "iopub.status.idle": "2024-12-19T15:05:01.611951Z",
     "shell.execute_reply": "2024-12-19T15:05:01.610545Z",
     "shell.execute_reply.started": "2024-12-19T15:05:01.603156Z"
    },
    "id": "kZpecVtsaXUt",
    "trusted": true
   },
   "outputs": [],
   "source": [
    "# Defining util Functions\n",
    "def conv_array(df):\n",
    "    x,y=df.drop('Class',axis=1),df['Class'].values\n",
    "    x=x.values\n",
    "    y0=np.ones(len(y),np.int8)\n",
    "    y0[np.where(y=='normal')]=0\n",
    "    y0[np.where(y=='dos')]=1\n",
    "    y0[np.where(y=='r2l')]=2\n",
    "    y0[np.where(y=='u2r')]=3\n",
    "    y0[np.where(y=='probe')]=4\n",
    "    return x,y,y0\n",
    "\n",
    "# Function for saving trained models\n",
    "def save_model(model, filename=\"model.sav\"):\n",
    "    pickle.dump(model, open(filename, 'wb'))\n",
    "    print(\"Model has been saved at: \", filename)"
   ]
  },
  {
   "cell_type": "markdown",
   "metadata": {
    "id": "9cveCyvhaZ0Y"
   },
   "source": [
    "### Loading and Cleaning Dataset"
   ]
  },
  {
   "cell_type": "code",
   "execution_count": null,
   "metadata": {
    "execution": {
     "iopub.execute_input": "2024-12-19T15:05:01.613670Z",
     "iopub.status.busy": "2024-12-19T15:05:01.613202Z",
     "iopub.status.idle": "2024-12-19T15:05:02.410279Z",
     "shell.execute_reply": "2024-12-19T15:05:02.409189Z",
     "shell.execute_reply.started": "2024-12-19T15:05:01.613634Z"
    },
    "id": "jTlqNbFcMWh-",
    "outputId": "b596fceb-a9f8-404f-de87-2aa15b51500e",
    "trusted": true
   },
   "outputs": [],
   "source": [
    "# Reading the data from CSV files using Pandas\n",
    "\n",
    "training_set_path = r\"Dataset\\KDDTrain.csv\"\n",
    "test_set_path = r\"Dataset\\KDDTest\"\n",
    "\n",
    "training_df = pd.read_csv(training_set_path, header=None)\n",
    "testing_df = pd.read_csv(test_set_path, header=None)\n",
    "\n",
    "print(\"Training set has {} rows.\".format(len(training_df)))\n",
    "print(\"Testing set has {} rows.\".format(len(testing_df)))"
   ]
  },
  {
   "cell_type": "code",
   "execution_count": null,
   "metadata": {
    "execution": {
     "iopub.execute_input": "2024-12-19T15:05:02.411884Z",
     "iopub.status.busy": "2024-12-19T15:05:02.411554Z",
     "iopub.status.idle": "2024-12-19T15:05:02.420474Z",
     "shell.execute_reply": "2024-12-19T15:05:02.419437Z",
     "shell.execute_reply.started": "2024-12-19T15:05:02.411851Z"
    },
    "id": "lwZOtZVcPe1P",
    "trusted": true
   },
   "outputs": [],
   "source": [
    "# Adding Column names to Dataset\n",
    "\n",
    "columns = ['duration', 'protocol_type', 'service', 'flag', 'src_bytes', 'dst_bytes', 'land', 'wrong_fragment', 'urgent', 'hot', 'num_failed_logins', 'logged_in', 'num_compromised', 'root_shell', 'su_attempted', 'num_root', 'num_file_creations', 'num_shells', 'num_access_files', 'num_outbound_cmds', 'is_host_login', 'is_guest_login', 'count', 'srv_count', 'serror_rate', 'srv_serror_rate', 'rerror_rate', 'srv_rerror_rate', 'same_srv_rate', 'diff_srv_rate', 'srv_diff_host_rate', 'dst_host_count', 'dst_host_srv_count', 'dst_host_same_srv_rate', 'dst_host_diff_srv_rate', 'dst_host_same_src_port_rate', 'dst_host_srv_diff_host_rate', 'dst_host_serror_rate', 'dst_host_srv_serror_rate', 'dst_host_rerror_rate', 'dst_host_srv_rerror_rate', 'outcome', 'difficulty']\n",
    "print(f\"we have {len(columns)} feature\")\n",
    "training_df.columns = columns\n",
    "testing_df.columns = columns"
   ]
  },
  {
   "cell_type": "code",
   "execution_count": 5,
   "metadata": {
    "execution": {
     "iopub.execute_input": "2024-12-19T15:05:02.422406Z",
     "iopub.status.busy": "2024-12-19T15:05:02.421987Z",
     "iopub.status.idle": "2024-12-19T15:05:04.382544Z",
     "shell.execute_reply": "2024-12-19T15:05:04.381423Z",
     "shell.execute_reply.started": "2024-12-19T15:05:02.422337Z"
    },
    "id": "q4YlEQAyMWgA",
    "trusted": true
   },
   "outputs": [],
   "source": [
    "# A list ot attack names that belong to each general attack type\n",
    "dos_attacks=[\"snmpgetattack\",\"back\",\"land\",\"neptune\",\"smurf\",\"teardrop\",\"pod\",\"apache2\",\"udpstorm\",\"processtable\",\"mailbomb\"]\n",
    "r2l_attacks=[\"snmpguess\",\"worm\",\"httptunnel\",\"named\",\"xlock\",\"xsnoop\",\"sendmail\",\"ftp_write\",\"guess_passwd\",\"imap\",\"multihop\",\"phf\",\"spy\",\"warezclient\",\"warezmaster\"]\n",
    "u2r_attacks=[\"sqlattack\",\"buffer_overflow\",\"loadmodule\",\"perl\",\"rootkit\",\"xterm\",\"ps\"]\n",
    "probe_attacks=[\"ipsweep\",\"nmap\",\"portsweep\",\"satan\",\"saint\",\"mscan\"]\n",
    "\n",
    "# Helper function to label samples to 5 classes\n",
    "def label_attack (row):\n",
    "    if row[\"outcome\"] in dos_attacks:\n",
    "        return \"dos\"\n",
    "    if row[\"outcome\"] in r2l_attacks:\n",
    "        return \"r2l\"\n",
    "    if row[\"outcome\"] in u2r_attacks:\n",
    "        return \"u2r\"\n",
    "    if row[\"outcome\"] in probe_attacks:\n",
    "        return \"probe\"                        \n",
    "    return \"normal\"\n",
    "\n",
    "\n",
    "# We combine the datasets temporarily to do the labeling \n",
    "test_samples_length = len(testing_df)\n",
    "df=pd.concat([training_df,testing_df])\n",
    "df[\"Class\"]=df.apply(label_attack,axis=1)\n",
    "\n",
    "# The old outcome field is dropped since it was replaced with the Class field, the difficulty field will be dropped as well.\n",
    "df=df.drop(\"outcome\",axis=1)\n",
    "df=df.drop(\"difficulty\",axis=1)\n",
    "\n",
    "# We again split the data into training and test sets.\n",
    "training_df= df.iloc[:-test_samples_length, :]\n",
    "testing_df= df.iloc[-test_samples_length:,:]"
   ]
  },
  {
   "cell_type": "code",
   "execution_count": null,
   "metadata": {
    "execution": {
     "iopub.execute_input": "2024-12-19T15:05:04.384490Z",
     "iopub.status.busy": "2024-12-19T15:05:04.384084Z",
     "iopub.status.idle": "2024-12-19T15:05:04.417364Z",
     "shell.execute_reply": "2024-12-19T15:05:04.415927Z",
     "shell.execute_reply.started": "2024-12-19T15:05:04.384452Z"
    },
    "id": "hOwyWshQPE6u",
    "outputId": "942d5a0d-b160-43fd-b847-ff738a532cda",
    "trusted": true
   },
   "outputs": [],
   "source": [
    "# Training Dataset\n",
    "training_df.head()"
   ]
  },
  {
   "cell_type": "code",
   "execution_count": 7,
   "metadata": {
    "execution": {
     "iopub.execute_input": "2024-12-19T15:05:04.422516Z",
     "iopub.status.busy": "2024-12-19T15:05:04.422094Z",
     "iopub.status.idle": "2024-12-19T15:05:04.859426Z",
     "shell.execute_reply": "2024-12-19T15:05:04.858425Z",
     "shell.execute_reply.started": "2024-12-19T15:05:04.422476Z"
    },
    "id": "ib5MusvKP-Aw",
    "trusted": true
   },
   "outputs": [],
   "source": [
    "# Helper function for scaling continous values\n",
    "def minmax_scale_values(training_df,testing_df, col_name):\n",
    "    scaler = MinMaxScaler()\n",
    "    scaler = scaler.fit(training_df[col_name].values.reshape(-1, 1))\n",
    "    train_values_standardized = scaler.transform(training_df[col_name].values.reshape(-1, 1))\n",
    "    training_df[col_name] = train_values_standardized\n",
    "    test_values_standardized = scaler.transform(testing_df[col_name].values.reshape(-1, 1))\n",
    "    testing_df[col_name] = test_values_standardized\n",
    "    \n",
    "    \n",
    "#Helper function for one hot encoding\n",
    "def encode_text(training_df,testing_df, name):\n",
    "    training_set_dummies = pd.get_dummies(training_df[name])\n",
    "    testing_set_dummies = pd.get_dummies(testing_df[name])\n",
    "    for x in training_set_dummies.columns:\n",
    "        dummy_name = \"{}_{}\".format(name, x)\n",
    "        training_df[dummy_name] = training_set_dummies[x]\n",
    "        if x in testing_set_dummies.columns :\n",
    "            testing_df[dummy_name]=testing_set_dummies[x]\n",
    "        else :\n",
    "            testing_df[dummy_name]=np.zeros(len(testing_df))\n",
    "    training_df.drop(name, axis=1, inplace=True)\n",
    "    testing_df.drop(name, axis=1, inplace=True)\n",
    "    \n",
    "    \n",
    "sympolic_columns=[\"protocol_type\",\"service\",\"flag\"]\n",
    "label_column=\"Class\"\n",
    "for column in df.columns :\n",
    "    if column in sympolic_columns:\n",
    "        encode_text(training_df,testing_df,column)\n",
    "    elif not column == label_column:\n",
    "        minmax_scale_values(training_df,testing_df, column)"
   ]
  },
  {
   "cell_type": "code",
   "execution_count": null,
   "metadata": {
    "execution": {
     "iopub.execute_input": "2024-12-19T15:05:04.861450Z",
     "iopub.status.busy": "2024-12-19T15:05:04.860952Z",
     "iopub.status.idle": "2024-12-19T15:05:04.892367Z",
     "shell.execute_reply": "2024-12-19T15:05:04.891310Z",
     "shell.execute_reply.started": "2024-12-19T15:05:04.861400Z"
    },
    "id": "Ko90-q-fQGyJ",
    "outputId": "214151bf-d39c-45a9-9245-8ab4a9a9825c",
    "trusted": true
   },
   "outputs": [],
   "source": [
    "# Training Dataset after one-hot encoding\n",
    "training_df.head()"
   ]
  },
  {
   "cell_type": "code",
   "execution_count": null,
   "metadata": {
    "execution": {
     "iopub.execute_input": "2024-12-19T15:05:04.894436Z",
     "iopub.status.busy": "2024-12-19T15:05:04.893988Z",
     "iopub.status.idle": "2024-12-19T15:05:04.914195Z",
     "shell.execute_reply": "2024-12-19T15:05:04.913035Z",
     "shell.execute_reply.started": "2024-12-19T15:05:04.894388Z"
    },
    "id": "WIB6XJm-Qexu",
    "outputId": "c4a43bfa-0b4d-4d71-d7f5-91a5f79598b5",
    "trusted": true
   },
   "outputs": [],
   "source": [
    "training_df.Class.value_counts()"
   ]
  },
  {
   "cell_type": "code",
   "execution_count": null,
   "metadata": {
    "execution": {
     "iopub.execute_input": "2024-12-19T15:05:04.915988Z",
     "iopub.status.busy": "2024-12-19T15:05:04.915608Z",
     "iopub.status.idle": "2024-12-19T15:05:04.996223Z",
     "shell.execute_reply": "2024-12-19T15:05:04.995033Z",
     "shell.execute_reply.started": "2024-12-19T15:05:04.915955Z"
    },
    "id": "tcHc4QwIansM",
    "outputId": "af004b67-b4c4-44c5-eece-668c4f8b6b06",
    "trusted": true
   },
   "outputs": [],
   "source": [
    "# Creating final dataset\n",
    "validation_df = training_df[101000:]\n",
    "training_df = training_df[:101000]\n",
    "\n",
    "training_df = training_df.reset_index(drop=True)\n",
    "validation_df = validation_df.reset_index(drop=True)\n",
    "\n",
    "print(validation_df)"
   ]
  },
  {
   "cell_type": "code",
   "execution_count": null,
   "metadata": {
    "execution": {
     "iopub.execute_input": "2024-12-19T15:05:04.997846Z",
     "iopub.status.busy": "2024-12-19T15:05:04.997513Z",
     "iopub.status.idle": "2024-12-19T15:05:05.729018Z",
     "shell.execute_reply": "2024-12-19T15:05:05.727810Z",
     "shell.execute_reply.started": "2024-12-19T15:05:04.997808Z"
    },
    "trusted": true
   },
   "outputs": [],
   "source": [
    "x_train, y_train, y0_train = conv_array(training_df)\n",
    "print(y_train[0], y0_train[0])\n",
    "\n",
    "x_valid, y_valid, y0_valid = conv_array(validation_df)\n",
    "print(y_valid[1], y0_valid[1])\n",
    "\n",
    "x_test,y_test,y0_test = conv_array(testing_df)\n",
    "print(y_test[0], y0_test[0])"
   ]
  },
  {
   "cell_type": "code",
   "execution_count": null,
   "metadata": {},
   "outputs": [],
   "source": [
    "testing_df.to_csv('Dataset\\test_prepared.csv', index=False)"
   ]
  },
  {
   "cell_type": "markdown",
   "metadata": {
    "id": "BhcwGJk9ed3i"
   },
   "source": [
    "## Training Part starts from here"
   ]
  },
  {
   "cell_type": "markdown",
   "metadata": {
    "id": "WQixiCMFajMR"
   },
   "source": [
    "### Random Forest Model"
   ]
  },
  {
   "cell_type": "code",
   "execution_count": null,
   "metadata": {
    "execution": {
     "iopub.execute_input": "2024-12-19T15:05:05.731408Z",
     "iopub.status.busy": "2024-12-19T15:05:05.730954Z",
     "iopub.status.idle": "2024-12-19T15:05:17.282534Z",
     "shell.execute_reply": "2024-12-19T15:05:17.281150Z",
     "shell.execute_reply.started": "2024-12-19T15:05:05.731341Z"
    },
    "id": "zO4KoWC2foNW",
    "outputId": "9d5d1457-d6d4-472f-9f57-862bad28779d",
    "trusted": true
   },
   "outputs": [],
   "source": [
    "# Loading the model\n",
    "from sklearn.ensemble import RandomForestClassifier\n",
    "print('*********************************')\n",
    "print(\"now working on the 1rd model\")\n",
    "\n",
    "random_forest_model = RandomForestClassifier(n_estimators=100)\n",
    "\n",
    "# Training the model\n",
    "random_forest_model.fit(x_train, y0_train)\n",
    "print(\"Model has been trained.\")"
   ]
  },
  {
   "cell_type": "code",
   "execution_count": null,
   "metadata": {
    "execution": {
     "iopub.execute_input": "2024-12-19T15:05:17.284134Z",
     "iopub.status.busy": "2024-12-19T15:05:17.283829Z",
     "iopub.status.idle": "2024-12-19T15:05:17.291638Z",
     "shell.execute_reply": "2024-12-19T15:05:17.290453Z",
     "shell.execute_reply.started": "2024-12-19T15:05:17.284104Z"
    },
    "id": "ajqRfWKbj6Wi",
    "outputId": "27f63e1f-cce6-47c3-fb61-b5ff9aa17b09",
    "trusted": true
   },
   "outputs": [],
   "source": [
    "y0_test[10]"
   ]
  },
  {
   "cell_type": "code",
   "execution_count": null,
   "metadata": {
    "execution": {
     "iopub.execute_input": "2024-12-19T15:05:17.293416Z",
     "iopub.status.busy": "2024-12-19T15:05:17.293033Z",
     "iopub.status.idle": "2024-12-19T15:05:17.316822Z",
     "shell.execute_reply": "2024-12-19T15:05:17.315875Z",
     "shell.execute_reply.started": "2024-12-19T15:05:17.293382Z"
    },
    "id": "DfSerVdi6A61",
    "outputId": "f01ee15c-2505-4016-da12-2ac987a0a343",
    "trusted": true
   },
   "outputs": [],
   "source": [
    "random_forest_model.predict_proba(x_test[10].reshape(1,122))"
   ]
  },
  {
   "cell_type": "code",
   "execution_count": null,
   "metadata": {
    "execution": {
     "iopub.execute_input": "2024-12-19T15:05:17.318558Z",
     "iopub.status.busy": "2024-12-19T15:05:17.318170Z",
     "iopub.status.idle": "2024-12-19T15:05:17.797479Z",
     "shell.execute_reply": "2024-12-19T15:05:17.796446Z",
     "shell.execute_reply.started": "2024-12-19T15:05:17.318523Z"
    },
    "id": "iZDXAL2cRi0a",
    "outputId": "22374ba6-d12d-4e53-ae29-1b9f75f820ba",
    "trusted": true
   },
   "outputs": [],
   "source": [
    "# Using model for predictions\n",
    "\n",
    "dict = {0:\"Normal    \", 1:\"dos \", 2:\"u2r\", 3:\"r2l\", 4:\"probe\"}\n",
    "\n",
    "y_pred = random_forest_model.predict(x_test)\n",
    "print(\"Prediction | Expected\")\n",
    "print(\"----------------------\")\n",
    "for i in range(10):\n",
    "    print(dict[y_pred[i]],\"|\",y_test[i])"
   ]
  },
  {
   "cell_type": "code",
   "execution_count": null,
   "metadata": {
    "execution": {
     "iopub.execute_input": "2024-12-19T15:05:17.798989Z",
     "iopub.status.busy": "2024-12-19T15:05:17.798705Z",
     "iopub.status.idle": "2024-12-19T15:05:18.325294Z",
     "shell.execute_reply": "2024-12-19T15:05:18.324172Z",
     "shell.execute_reply.started": "2024-12-19T15:05:17.798960Z"
    },
    "id": "xrBARUMLTjGK",
    "outputId": "aea17020-f11d-4b3b-95f1-8a7013badfcb",
    "trusted": true
   },
   "outputs": [],
   "source": [
    "# Analysing the model's predictions\n",
    "result = random_forest_model.score(x_test, y0_test)\n",
    "print(result)\n",
    "\n",
    "accuracy=accuracy_score(y0_test,y_pred)\n",
    "recall=recall_score(y0_test,y_pred,average='micro')\n",
    "precision=precision_score(y0_test,y_pred,average='micro')\n",
    "f1=f1_score(y0_test,y_pred,average='micro')\n",
    "print(\"Performance over the testing data set of Random Forest \")\n",
    "print(\"Accuracy : {} , Recall : {} , Precision : {} ,       F1 : {}\\n\".format(accuracy,recall,precision,f1 ))"
   ]
  },
  {
   "cell_type": "code",
   "execution_count": null,
   "metadata": {
    "execution": {
     "iopub.execute_input": "2024-12-19T15:05:18.327058Z",
     "iopub.status.busy": "2024-12-19T15:05:18.326723Z",
     "iopub.status.idle": "2024-12-19T15:05:18.354558Z",
     "shell.execute_reply": "2024-12-19T15:05:18.353113Z",
     "shell.execute_reply.started": "2024-12-19T15:05:18.327025Z"
    },
    "id": "p7e9216UnF7O",
    "outputId": "4448df5b-7fde-410d-d61d-2c3861d09172",
    "trusted": true
   },
   "outputs": [],
   "source": [
    "save_model(random_forest_model, \"random_forest_model.sav\")"
   ]
  },
  {
   "cell_type": "markdown",
   "metadata": {
    "id": "PjLCwg3yEDDT"
   },
   "source": [
    "### Support Vector Machine Model"
   ]
  },
  {
   "cell_type": "code",
   "execution_count": null,
   "metadata": {
    "execution": {
     "iopub.execute_input": "2024-12-19T15:05:18.356917Z",
     "iopub.status.busy": "2024-12-19T15:05:18.356433Z",
     "iopub.status.idle": "2024-12-19T15:05:18.363284Z",
     "shell.execute_reply": "2024-12-19T15:05:18.362122Z",
     "shell.execute_reply.started": "2024-12-19T15:05:18.356864Z"
    },
    "id": "bsQHrLzTk_L2",
    "trusted": true
   },
   "outputs": [],
   "source": [
    "from sklearn.svm import SVC\n",
    "\n",
    "print('*********************************')\n",
    "print(\"now working on the 2rd model\")\n",
    "# Loading the model\n",
    "svm_model = SVC(kernel='linear',probability=True)"
   ]
  },
  {
   "cell_type": "code",
   "execution_count": null,
   "metadata": {
    "execution": {
     "execution_failed": "2024-12-19T15:08:18.744Z",
     "iopub.execute_input": "2024-12-19T15:05:18.364841Z",
     "iopub.status.busy": "2024-12-19T15:05:18.364546Z"
    },
    "id": "fhad0HB_EcEL",
    "outputId": "17aeea5b-7358-40b6-a48f-a87e493b7ef1",
    "trusted": true
   },
   "outputs": [],
   "source": [
    "# Training the model\n",
    "svm_model.fit(x_train, y0_train)\n",
    "print(\"Model has been trained.\")\n",
    "\n",
    "y0_test[10]\n",
    "\n",
    "svm_model.predict_proba(x_test[10].reshape(1, 122))"
   ]
  },
  {
   "cell_type": "code",
   "execution_count": null,
   "metadata": {
    "execution": {
     "execution_failed": "2024-12-19T15:08:18.745Z"
    },
    "id": "OqVQnVUBEcBP",
    "outputId": "850d2964-d568-4297-e96d-e9b54d63d795",
    "trusted": true
   },
   "outputs": [],
   "source": [
    "# Using model for predictions\n",
    "\n",
    "dict = {0: \"Normal    \", 1: \"dos \", 2: \"u2r\", 3: \"r2l\", 4: \"probe\"}\n",
    "\n",
    "y_pred = svm_model.predict(x_test)\n",
    "print(\"Prediction | Expected\")\n",
    "print(\"----------------------\")\n",
    "for i in range(10):\n",
    "    print(dict[y_pred[i]], \"|\", y_test[i])"
   ]
  },
  {
   "cell_type": "code",
   "execution_count": null,
   "metadata": {
    "execution": {
     "execution_failed": "2024-12-19T15:08:18.746Z"
    },
    "id": "VS6IFi4AEb7Q",
    "outputId": "225d6f81-136d-4539-ca4b-b0cfb465d80c",
    "trusted": true
   },
   "outputs": [],
   "source": [
    "# Analysing the model's predictions\n",
    "result = svm_model.score(x_test, y0_test)\n",
    "print(result)\n",
    "\n",
    "accuracy = accuracy_score(y0_test, y_pred)\n",
    "recall = recall_score(y0_test, y_pred, average='micro')\n",
    "precision = precision_score(y0_test, y_pred, average='micro')\n",
    "f1 = f1_score(y0_test, y_pred, average='micro')\n",
    "print(\"Performance over the testing data set of the SVM model \")\n",
    "print(\"Accuracy : {}, Recall : {}, Precision : {},     F1 : {}\\n\".format(accuracy, recall, precision, f1))"
   ]
  },
  {
   "cell_type": "code",
   "execution_count": null,
   "metadata": {
    "execution": {
     "execution_failed": "2024-12-19T15:08:18.746Z"
    },
    "id": "bGdQ_8q_Eb4R",
    "outputId": "c67820a9-3039-4090-e66f-52698c040c02",
    "trusted": true
   },
   "outputs": [],
   "source": [
    "save_model(svm_model, \"Linear_SVM_model.sav\")"
   ]
  },
  {
   "cell_type": "markdown",
   "metadata": {},
   "source": [
    "### Adaboost Model"
   ]
  },
  {
   "cell_type": "code",
   "execution_count": null,
   "metadata": {
    "execution": {
     "execution_failed": "2024-12-19T15:08:18.747Z"
    },
    "trusted": true
   },
   "outputs": [],
   "source": [
    "import xgboost as xgb\n",
    "from sklearn.model_selection import GridSearchCV\n",
    "from sklearn.metrics import accuracy_score, recall_score, precision_score, f1_score\n",
    "import joblib\n",
    "\n",
    "print('*********************************')\n",
    "print(\"now working on the 3rd model\")\n",
    "# Loading the XGBoost model\n",
    "xgboost_model = xgb.XGBClassifier(random_state=42, use_label_encoder=False, eval_metric='mlogloss')\n"
   ]
  },
  {
   "cell_type": "code",
   "execution_count": null,
   "metadata": {
    "execution": {
     "execution_failed": "2024-12-19T15:08:18.748Z"
    },
    "trusted": true
   },
   "outputs": [],
   "source": [
    "# Define parameter grid\n",
    "param_grid = {\n",
    "    'n_estimators': range(50, 300, 50),  # Range of values to try\n",
    "    'learning_rate': [0.01, 0.1, 0.2],  # Try different learning rates\n",
    "    'max_depth': [3, 5, 7],  # Max depth of the tree\n",
    "    'random_state': [42]  # Keep the random state fixed\n",
    "}\n",
    "\n",
    "# Initialize GridSearchCV\n",
    "grid_search = GridSearchCV(estimator=xgboost_model, param_grid=param_grid, scoring='f1_micro', cv=5)\n",
    "\n",
    "# Fit GridSearchCV to training data\n",
    "grid_search.fit(x_train, y0_train)\n",
    "\n",
    "# Get the best parameters\n",
    "best_params = grid_search.best_params_\n",
    "print(f\"Best Parameters: {best_params}\")"
   ]
  },
  {
   "cell_type": "code",
   "execution_count": null,
   "metadata": {
    "execution": {
     "execution_failed": "2024-12-19T15:08:18.748Z"
    },
    "trusted": true
   },
   "outputs": [],
   "source": [
    "# Train the final XGBoost model with the best parameters\n",
    "optimized_xgboost_model = grid_search.best_estimator_\n",
    "optimized_xgboost_model.fit(x_train, y0_train)\n",
    "print(\"Optimized model has been trained.\")"
   ]
  },
  {
   "cell_type": "code",
   "execution_count": null,
   "metadata": {
    "execution": {
     "execution_failed": "2024-12-19T15:08:18.749Z"
    },
    "trusted": true
   },
   "outputs": [],
   "source": [
    "# Make predictions\n",
    "y_pred = optimized_xgboost_model.predict(x_test)"
   ]
  },
  {
   "cell_type": "code",
   "execution_count": null,
   "metadata": {
    "execution": {
     "execution_failed": "2024-12-19T15:08:18.749Z"
    },
    "trusted": true
   },
   "outputs": [],
   "source": [
    "dict = {0: \"Normal    \", 1: \"dos \", 2: \"u2r\", 3: \"r2l\", 4: \"probe\"}\n",
    "\n",
    "print(\"Prediction | Expected\")\n",
    "print(\"----------------------\")\n",
    "for i in range(10):\n",
    "    print(dict[y_pred[i]], \"|\", y_test[i])\n"
   ]
  },
  {
   "cell_type": "code",
   "execution_count": null,
   "metadata": {
    "execution": {
     "execution_failed": "2024-12-19T15:08:18.749Z"
    },
    "trusted": true
   },
   "outputs": [],
   "source": [
    "# Evaluate the optimized model\n",
    "accuracy = accuracy_score(y0_test, y_pred)\n",
    "recall = recall_score(y0_test, y_pred, average='micro')\n",
    "precision = precision_score(y0_test, y_pred, average='micro')\n",
    "f1 = f1_score(y0_test, y_pred, average='micro')\n",
    "\n",
    "print(\"Performance over the testing data set  of XGBoost_model \\n\")\n",
    "print(\"Accuracy : {}, Recall : {}, Precision : {}, F1 : {}\\n\".format(accuracy, recall, precision, f1))\n"
   ]
  },
  {
   "cell_type": "code",
   "execution_count": null,
   "metadata": {
    "execution": {
     "execution_failed": "2024-12-19T15:08:18.750Z"
    },
    "trusted": true
   },
   "outputs": [],
   "source": [
    "# Save the optimized model\n",
    "joblib.dump(optimized_xgboost_model, \"Optimized_XGBoost_model.sav\")\n",
    "print(\"Optimized XGBoost model saved as Optimized_XGBoost_model.sav\")"
   ]
  },
  {
   "cell_type": "markdown",
   "metadata": {},
   "source": [
    "### RF_meta_model"
   ]
  },
  {
   "cell_type": "code",
   "execution_count": null,
   "metadata": {
    "execution": {
     "execution_failed": "2024-12-19T15:08:18.750Z"
    },
    "trusted": true
   },
   "outputs": [],
   "source": [
    "from sklearn.ensemble import RandomForestClassifier\n",
    "from sklearn.metrics import accuracy_score, recall_score, precision_score, f1_score\n",
    "from sklearn.model_selection import GridSearchCV\n",
    "\n",
    "print('*********************************')\n",
    "print(\"now working on the metamodel\")\n",
    "# Generate predictions from base models\n",
    "svm_predictions = svm_model.predict_proba(x_valid)\n",
    "rfc_predictions = random_forest_model.predict_proba(x_valid)\n",
    "adaboost_predictions = optimized_xgboost_model.predict_proba(x_valid)\n",
    "\n",
    "# Combine base model predictions as meta features\n",
    "meta_features = np.hstack((svm_predictions, rfc_predictions, adaboost_predictions))"
   ]
  },
  {
   "cell_type": "code",
   "execution_count": null,
   "metadata": {
    "execution": {
     "execution_failed": "2024-12-19T15:08:18.750Z"
    },
    "trusted": true
   },
   "outputs": [],
   "source": [
    "# Hyperparameter optimization for the meta-model (Random Forest)\n",
    "param_grid = {\n",
    "    'n_estimators': [50, 100, 200],\n",
    "    'max_depth': [None, 10, 20, 30],\n",
    "    'min_samples_split': [2, 5, 10],\n",
    "    'min_samples_leaf': [1, 2, 4]\n",
    "}\n",
    "\n",
    "meta_model = RandomForestClassifier(random_state=42)\n",
    "grid_search = GridSearchCV(estimator=meta_model, param_grid=param_grid, cv=3, scoring='accuracy', n_jobs=-1)\n",
    "grid_search.fit(meta_features, y0_valid)\n",
    "\n",
    "# Best parameters and meta-model\n",
    "best_params = grid_search.best_params_\n",
    "print(\"Best hyperparameters for the meta-model:\", best_params)\n",
    "meta_model = grid_search.best_estimator_\n"
   ]
  },
  {
   "cell_type": "code",
   "execution_count": null,
   "metadata": {
    "execution": {
     "execution_failed": "2024-12-19T15:08:18.751Z"
    },
    "trusted": true
   },
   "outputs": [],
   "source": [
    "# Evaluate the meta-model\n",
    "test_svm_predictions = svm_model.predict_proba(x_test)\n",
    "test_rfc_predictions = random_forest_model.predict_proba(x_test)\n",
    "test_adaboost_predictions = optimized_xgboost_model.predict_proba(x_test)\n",
    "\n",
    "# Combine test meta features\n",
    "test_meta_features = np.hstack((test_svm_predictions, test_rfc_predictions, test_adaboost_predictions))"
   ]
  },
  {
   "cell_type": "code",
   "execution_count": null,
   "metadata": {
    "execution": {
     "execution_failed": "2024-12-19T15:08:18.751Z"
    },
    "trusted": true
   },
   "outputs": [],
   "source": [
    "y_meta_pred = meta_model.predict(test_meta_features)\n",
    "\n",
    "# Evaluate the meta-model\n",
    "dict = {0: \"Normal    \", 1: \"dos \", 2: \"u2r\", 3: \"r2l\", 4: \"probe\"}\n",
    "print(\"Prediction | Expected\")\n",
    "print(\"----------------------\")\n",
    "for i in range(10):\n",
    "    print(dict[y_meta_pred[i]], \"|\", y_test[i])\n"
   ]
  },
  {
   "cell_type": "code",
   "execution_count": null,
   "metadata": {
    "execution": {
     "execution_failed": "2024-12-19T15:08:18.751Z"
    },
    "trusted": true
   },
   "outputs": [],
   "source": [
    "accuracy = accuracy_score(y0_test, y_meta_pred)\n",
    "recall = recall_score(y0_test, y_meta_pred, average='micro')\n",
    "precision = precision_score(y0_test, y_meta_pred, average='micro')\n",
    "f1 = f1_score(y0_test, y_meta_pred, average='micro')\n",
    "\n",
    "print(\"Performance of the meta-model over the testing data set \\n\")\n",
    "print(\"Accuracy : {}, Recall : {}, Precision : {}, F1 : {}\\n\".format(accuracy, recall, precision, f1))"
   ]
  },
  {
   "cell_type": "code",
   "execution_count": null,
   "metadata": {
    "execution": {
     "execution_failed": "2024-12-19T15:08:18.752Z"
    },
    "trusted": true
   },
   "outputs": [],
   "source": [
    "# Save the meta-model\n",
    "joblib.dump(meta_model, \"Meta_RF_model_optimized.sav\")\n",
    "print(\"Optimized meta-model saved as Meta_RF_model_optimized.sav\")"
   ]
  }
 ],
 "metadata": {
  "accelerator": "GPU",
  "colab": {
   "provenance": []
  },
  "kaggle": {
   "accelerator": "none",
   "dataSources": [
    {
     "datasetId": 6306866,
     "sourceId": 10205575,
     "sourceType": "datasetVersion"
    }
   ],
   "dockerImageVersionId": 30804,
   "isGpuEnabled": false,
   "isInternetEnabled": false,
   "language": "python",
   "sourceType": "notebook"
  },
  "kernelspec": {
   "display_name": "ML",
   "language": "python",
   "name": "python3"
  },
  "language_info": {
   "codemirror_mode": {
    "name": "ipython",
    "version": 3
   },
   "file_extension": ".py",
   "mimetype": "text/x-python",
   "name": "python",
   "nbconvert_exporter": "python",
   "pygments_lexer": "ipython3",
   "version": "3.8.20"
  }
 },
 "nbformat": 4,
 "nbformat_minor": 4
}
